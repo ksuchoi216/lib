{
 "cells": [
  {
   "cell_type": "code",
   "execution_count": 12,
   "metadata": {},
   "outputs": [
    {
     "name": "stdout",
     "output_type": "stream",
     "text": [
      "The autoreload extension is already loaded. To reload it, use:\n",
      "  %reload_ext autoreload\n",
      "[posture_model] Not in server\n",
      "\n",
      "config_path: ./configs/cfg_cover1.json\n",
      "There is NOT a config file\n"
     ]
    }
   ],
   "source": [
    "CONFIG_NAME = 'cover1'\n",
    "import sys, os, json, copy, re, warnings, pprint\n",
    "import matplotlib.pyplot as plt\n",
    "import seaborn as sns\n",
    "import pandas as pd\n",
    "import numpy as np\n",
    "%load_ext autoreload\n",
    "%autoreload 2\n",
    "%matplotlib inline\n",
    "warnings.filterwarnings('ignore')\n",
    "plt.rcParams['figure.figsize'] = (16, 3)\n",
    "pd.reset_option('display.')\n",
    "\n",
    "def set_folder(foldername):\n",
    "    if '/notebook' in sys.path:\n",
    "        folder_path = f'/notebook/personal/ksuchoi216/{foldername}'\n",
    "        if folder_path not in sys.path:\n",
    "            sys.path.insert(0, folder_path)\n",
    "            os.chdir(folder_path)\n",
    "        print(f'[{foldername}] In server\\n')\n",
    "    else:\n",
    "        print(f'[{foldername}] Not in server\\n')\n",
    "        \n",
    "cwd = os.getcwd()\n",
    "FOLDER_NAME = re.search(r'([-_]?[a-z]+)+$', cwd)[0]\n",
    "set_folder(FOLDER_NAME)\n",
    "\n",
    "\n",
    "if not os.path.exists('./lib/'):\n",
    "    !git clone git@github.com:ksuchoi216/lib.git\n",
    "\n",
    "if not os.path.exists('./configs/'):\n",
    "    os.mkdir('./configs/')\n",
    "\n",
    "from lib import *\n",
    "config = Config(CONFIG_NAME)\n",
    "cfg = config()"
   ]
  },
  {
   "cell_type": "code",
   "execution_count": null,
   "metadata": {},
   "outputs": [],
   "source": [
    "\n",
    "\n"
   ]
  }
 ],
 "metadata": {
  "kernelspec": {
   "display_name": "posture",
   "language": "python",
   "name": "python3"
  },
  "language_info": {
   "codemirror_mode": {
    "name": "ipython",
    "version": 3
   },
   "file_extension": ".py",
   "mimetype": "text/x-python",
   "name": "python",
   "nbconvert_exporter": "python",
   "pygments_lexer": "ipython3",
   "version": "3.10.11"
  },
  "orig_nbformat": 4
 },
 "nbformat": 4,
 "nbformat_minor": 2
}
